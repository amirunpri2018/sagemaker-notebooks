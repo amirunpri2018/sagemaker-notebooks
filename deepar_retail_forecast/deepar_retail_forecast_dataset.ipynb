{
 "cells": [
  {
   "cell_type": "markdown",
   "metadata": {},
   "source": [
    "## データセットのダウンロード"
   ]
  },
  {
   "cell_type": "code",
   "execution_count": null,
   "metadata": {},
   "outputs": [],
   "source": [
    "import urllib.request\n",
    "urllib.request.urlretrieve(\"https://archive.ics.uci.edu/ml/machine-learning-databases/00352/Online%20Retail.xlsx\", \"online_retail.xlsx\")"
   ]
  },
  {
   "cell_type": "code",
   "execution_count": null,
   "metadata": {},
   "outputs": [],
   "source": [
    "import pandas as pd\n",
    "df = pd.read_excel(\"online_retail.xlsx\", parse_dates=[\"InvoiceDate\"])"
   ]
  },
  {
   "cell_type": "markdown",
   "metadata": {},
   "source": [
    "## データセットの確認"
   ]
  },
  {
   "cell_type": "code",
   "execution_count": null,
   "metadata": {},
   "outputs": [],
   "source": [
    "from IPython.core.display import display\n",
    "display(df)"
   ]
  },
  {
   "cell_type": "markdown",
   "metadata": {},
   "source": [
    "## 不要な行の削除"
   ]
  },
  {
   "cell_type": "code",
   "execution_count": null,
   "metadata": {},
   "outputs": [],
   "source": [
    "del df[\"InvoiceNo\"], df[\"Description\"], df[\"CustomerID\"]"
   ]
  },
  {
   "cell_type": "markdown",
   "metadata": {},
   "source": [
    "## トップ5の抽出"
   ]
  },
  {
   "cell_type": "code",
   "execution_count": null,
   "metadata": {
    "scrolled": true
   },
   "outputs": [],
   "source": [
    "top_five_code = df[\"StockCode\"].value_counts().head().index\n",
    "top_five_record = df[df[\"StockCode\"].isin(top_five_code)]\n",
    "top_five_record.set_index(top_five_record[\"InvoiceDate\"], drop=True, inplace=True)\n",
    "del top_five_record[\"InvoiceDate\"]\n",
    "display(top_five_record.head())\n",
    "#top_five_record.groupby(\"stock\")"
   ]
  },
  {
   "cell_type": "markdown",
   "metadata": {},
   "source": [
    "## 1時間おきに揃える"
   ]
  },
  {
   "cell_type": "code",
   "execution_count": null,
   "metadata": {},
   "outputs": [],
   "source": [
    "qty = top_five_record.groupby([\"StockCode\", \"Country\"]).resample('H').sum()[\"Quantity\"]\n",
    "price = top_five_record.groupby([\"StockCode\", \"Country\"]).resample('H').mean()[\"UnitPrice\"]\n",
    "resampled = pd.concat([qty, price],axis=1, join=\"inner\")\n",
    "display(resampled.head())"
   ]
  },
  {
   "cell_type": "markdown",
   "metadata": {},
   "source": [
    "## 欠損値を最頻値で埋める"
   ]
  },
  {
   "cell_type": "code",
   "execution_count": null,
   "metadata": {},
   "outputs": [],
   "source": [
    "import numpy as np\n",
    "resampled[\"UnitPrice\"] = resampled.groupby(['StockCode','Country'])['UnitPrice'].apply(lambda x: x.fillna(x.mode()[0]))\n",
    "display(resampled.head())"
   ]
  },
  {
   "cell_type": "markdown",
   "metadata": {},
   "source": [
    "## 入力に利用するjsonファイルを利用する"
   ]
  },
  {
   "cell_type": "code",
   "execution_count": null,
   "metadata": {},
   "outputs": [],
   "source": [
    "stockcode_arr = resampled.index.levels[0]\n",
    "country_arr = resampled.index.levels[1]\n",
    "\n",
    "json_data = []\n",
    "for stock_index in range(len(stockcode_arr)):\n",
    "    for country_index in range(len(country_arr)):\n",
    "        one_data ={}\n",
    "        try:\n",
    "            record = resampled.loc[stockcode_arr[stock_index],country_arr[country_index]]\n",
    "            #print(record)\n",
    "            one_data['start'] = str(record.index[0])\n",
    "            one_data['target'] = record[\"Quantity\"].values.tolist()\n",
    "            one_data['cat'] = [stock_index, country_index]\n",
    "            json_data.append(one_data)\n",
    "        except:\n",
    "            pass\n",
    "\n",
    "import json\n",
    "with open(\"./training_data.json\", 'wb') as fp:\n",
    "    for d in json_data:\n",
    "        fp.write(json.dumps(d).encode(\"utf-8\"))\n",
    "        fp.write(\"\\n\".encode('utf-8'))"
   ]
  },
  {
   "cell_type": "code",
   "execution_count": null,
   "metadata": {},
   "outputs": [],
   "source": [
    "import sagemaker\n",
    "from sagemaker import get_execution_role\n",
    "\n",
    "sagemaker_session = sagemaker.Session()\n",
    "role = get_execution_role()\n",
    "\n",
    "train_input = sagemaker_session.upload_data(\n",
    "    path=\"./training_data.json\",key_prefix='deepar/retail_forecast')"
   ]
  },
  {
   "cell_type": "code",
   "execution_count": null,
   "metadata": {},
   "outputs": [],
   "source": [
    "region = \"ap-northeast-1\"\n",
    "image_name = sagemaker.amazon.amazon_estimator.get_image_uri(region, \"forecasting-deepar\", \"latest\")\n",
    "estimator = sagemaker.estimator.Estimator(\n",
    "    sagemaker_session=sagemaker_session,\n",
    "    image_name=image_name,\n",
    "    role=role,\n",
    "    train_instance_count=1,\n",
    "    train_instance_type='ml.c4.2xlarge',\n",
    "    base_job_name='deepar-retail-forecast',\n",
    ")\n"
   ]
  },
  {
   "cell_type": "code",
   "execution_count": null,
   "metadata": {},
   "outputs": [],
   "source": [
    "hyperparameters = {\n",
    "    \"time_freq\": 'H',\n",
    "    \"epochs\": \"400\",\n",
    "    \"early_stopping_patience\": \"40\",\n",
    "    \"mini_batch_size\": \"64\",\n",
    "    \"learning_rate\": \"5E-4\",\n",
    "    \"context_length\": \"84\",\n",
    "    \"prediction_length\": \"84\"\n",
    "}\n",
    "estimator.set_hyperparameters(**hyperparameters)"
   ]
  },
  {
   "cell_type": "code",
   "execution_count": null,
   "metadata": {
    "scrolled": true
   },
   "outputs": [],
   "source": [
    "estimator.fit(inputs={\"train\":train_input}, wait=True)"
   ]
  },
  {
   "cell_type": "code",
   "execution_count": null,
   "metadata": {},
   "outputs": [],
   "source": [
    "instance_type = 'ml.m4.xlarge'\n",
    "predictor = estimator.deploy(initial_instance_count=1, instance_type=instance_type)"
   ]
  },
  {
   "cell_type": "code",
   "execution_count": null,
   "metadata": {},
   "outputs": [],
   "source": [
    "instances = json_data[104]\n",
    "configuration = {\"num_samples\": 100, \"output_types\": [\"samples\"], \"quantiles\": [\"0.1\", \"0.5\", \"0.9\"]}\n",
    "http_request_data = {\"instances\": [instances], \"configuration\": configuration}\n",
    "byte_json = predictor.predict(json.dumps(http_request_data).encode(\"utf-8\"))\n",
    "result = json.loads(byte_json)\n",
    "print(json_data[104])\n",
    "print(result['predictions'][0]['samples'][0])"
   ]
  }
 ],
 "metadata": {
  "kernelspec": {
   "display_name": "conda_python3",
   "language": "python",
   "name": "conda_python3"
  },
  "language_info": {
   "codemirror_mode": {
    "name": "ipython",
    "version": 3
   },
   "file_extension": ".py",
   "mimetype": "text/x-python",
   "name": "python",
   "nbconvert_exporter": "python",
   "pygments_lexer": "ipython3",
   "version": "3.6.5"
  }
 },
 "nbformat": 4,
 "nbformat_minor": 2
}
