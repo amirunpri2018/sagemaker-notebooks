{
 "cells": [
  {
   "cell_type": "markdown",
   "metadata": {},
   "source": [
    "## Tensorflow の学習済みモデルを学習に利用する\n",
    "### 学習済みモデルのダウンロード\n",
    "学習済みモデルがS3にアップロードされていれば、学習インスタンスで読み込んで、学習済みモデルから学習をスタートすることできます。\n",
    "まずは、tensorflowのresnet_v1_50のモデルをダウンロード・解凍します。"
   ]
  },
  {
   "cell_type": "code",
   "execution_count": null,
   "metadata": {},
   "outputs": [],
   "source": [
    "import urllib.request\n",
    "import os\n",
    "\n",
    "download_file = \"resnet_v1_50_2016_08_28.tar.gz\"\n",
    "if not os.path.exists(download_file):\n",
    "    url = 'http://download.tensorflow.org/models/resnet_v1_50_2016_08_28.tar.gz'\n",
    "    urllib.request.urlretrieve(url, download_file)\n",
    "    \n",
    "!tar xvzf resnet_v1_50_2016_08_28.tar.gz"
   ]
  },
  {
   "cell_type": "markdown",
   "metadata": {},
   "source": [
    "### S3への学習済みモデルのアップロード\n",
    "SageMaker Python SDKを利用して、ファイル resnet_v1_50.ckpt をS3にアップロードします。この学習済みモデルはtf.slimのモデルなので、Tensorflowのスクリプト(cifar100.py)ではtf.slimのモデルとして読み込まれるようにします。"
   ]
  },
  {
   "cell_type": "code",
   "execution_count": null,
   "metadata": {},
   "outputs": [],
   "source": [
    "import sagemaker\n",
    "from sagemaker import get_execution_role\n",
    "\n",
    "sagemaker_session = sagemaker.Session()\n",
    "\n",
    "role = get_execution_role()\n",
    "\n",
    "bucket_name = sagemaker_session.default_bucket()\n",
    "prefix_name  = 'pretrained_model/resnet_tf'\n",
    "file_name = 'resnet_v1_50.ckpt'\n",
    "model_file = sagemaker_session.upload_data(path=file_name, bucket=bucket_name, key_prefix=prefix_name)\n",
    "print('Your pretrained model is uploaded to: {}'.format(model_file))"
   ]
  },
  {
   "cell_type": "markdown",
   "metadata": {},
   "source": [
    "### 学習データのアップロード\n",
    "- 今回はtf.kerasのデータセットからcifar100をダウンロードして利用します。\n",
    "- `convert_to`の関数でtfrecord形式に変換して、アップロードします"
   ]
  },
  {
   "cell_type": "code",
   "execution_count": null,
   "metadata": {},
   "outputs": [],
   "source": [
    "import os\n",
    "import tensorflow as tf\n",
    "\n",
    "def _int64_feature(value):\n",
    "    return tf.train.Feature(int64_list=tf.train.Int64List(value=[value]))\n",
    "\n",
    "def _bytes_feature(value):\n",
    "    return tf.train.Feature(bytes_list=tf.train.BytesList(value=[value]))\n",
    "\n",
    "def convert_to(data_set, filename):\n",
    "    \"\"\"Converts a dataset to tfrecords.\"\"\"\n",
    "    images = data_set[\"images\"]\n",
    "    labels = data_set[\"labels\"]\n",
    "    num_examples = images.shape[0]\n",
    "\n",
    "    rows = images.shape[1]\n",
    "    cols = images.shape[2]\n",
    "    if len(images.shape) > 3:\n",
    "        depth = images.shape[3]\n",
    "    else:\n",
    "        depth = 1\n",
    "        \n",
    "    print('Writing', filename)\n",
    "    writer = tf.python_io.TFRecordWriter(filename)\n",
    "    for index in range(num_examples):\n",
    "        image_raw = images[index].tostring()\n",
    "        example = tf.train.Example(features=tf.train.Features(feature={\n",
    "            'height': _int64_feature(rows),\n",
    "            'width': _int64_feature(cols),\n",
    "            'depth': _int64_feature(depth),\n",
    "            'label': _int64_feature(int(labels[index])),\n",
    "            'image_raw': _bytes_feature(image_raw)}))\n",
    "        writer.write(example.SerializeToString())\n",
    "    writer.close()"
   ]
  },
  {
   "cell_type": "code",
   "execution_count": null,
   "metadata": {},
   "outputs": [],
   "source": [
    "import tensorflow as tf\n",
    "import numpy as np\n",
    "import matplotlib.pyplot as plt\n",
    "(x_train, y_train), (x_test, y_test) = tf.keras.datasets.cifar100.load_data()\n",
    "train = {\"images\": x_train, \"labels\": y_train}\n",
    "test= {\"images\": x_test, \"labels\": y_test}\n",
    "os.makedirs(\"./data\", exist_ok=True)\n",
    "convert_to(train, \"./data/train.tfrecords\")\n",
    "convert_to(test, \"./data/test.tfrecords\")\n",
    "input_data = sagemaker_session.upload_data(path='./data', key_prefix='pretrained_model/data')\n",
    "print('Your pretrained model is uploaded to: {}'.format(input_data))"
   ]
  },
  {
   "cell_type": "markdown",
   "metadata": {},
   "source": [
    "## SageMakerでの学習\n",
    "\n",
    "### Local mode用スクリプトダウンロード\n",
    "\n",
    "デバッグでLocal Modeを実行するために、スクリプトをダウンロードして実行します。"
   ]
  },
  {
   "cell_type": "code",
   "execution_count": null,
   "metadata": {},
   "outputs": [],
   "source": [
    "download_file = \"setup.sh\"\n",
    "if not os.path.exists(download_file):\n",
    "    url = 'https://raw.githubusercontent.com/awslabs/amazon-sagemaker-examples/master/sagemaker-python-sdk/tensorflow_distributed_mnist/setup.sh'\n",
    "    urllib.request.urlretrieve(url, download_file)\n",
    "    \n",
    "!sh setup.sh"
   ]
  },
  {
   "cell_type": "markdown",
   "metadata": {},
   "source": [
    "### 学習済みモデルに対する転移学習の実行\n",
    "- S3にある学習済みモデルの場所をbucket_nameとprefix_nameで渡します。\n",
    "- S3の学習データの場所はinput_dataとしてfitに渡します。\n",
    "- `cifar100.py`内での読み込みは以下のとおりです。boto3でファイルをダウンロード、init_from_checkpointで読み込みます。 \n",
    "\n",
    "(参考)\n",
    "- https://github.com/tensorflow/tensorflow/issues/14713\n",
    "- https://stackoverflow.com/questions/47867748/transfer-learning-with-tf-estimator-estimator-framework\n",
    "\n",
    "```python\n",
    "    bucket_name = params['bucket_name']\n",
    "    prefix_name = params['prefix_name']\n",
    "    s3 = boto3.resource('s3')\n",
    "    try:\n",
    "        s3.Bucket(bucket_name).download_file(prefix_name, 'resnet.ckpt')\n",
    "        print(\"Pretrained model is downloaded.\")\n",
    "    except botocore.exceptions.ClientError as e:\n",
    "        if e.response['Error']['Code'] == \"404\":\n",
    "            print(\"The object does not exist.\")\n",
    "        else:\n",
    "            raise\n",
    "            \n",
    "            ...\n",
    "    tf.train.init_from_checkpoint(\"./resnet.ckpt\",{v.name.split(':')[0]: v for v in variables_to_restore if not 'biases' in v.name})\n",
    "```"
   ]
  },
  {
   "cell_type": "code",
   "execution_count": null,
   "metadata": {},
   "outputs": [],
   "source": [
    "from sagemaker.tensorflow import TensorFlow\n",
    "\n",
    "mnist_estimator = TensorFlow(entry_point='cifar100.py',\n",
    "                             role=role,\n",
    "                             framework_version='1.11.0',\n",
    "                             training_steps=100, \n",
    "                             evaluation_steps=10,\n",
    "                             train_instance_count=1,\n",
    "                             train_instance_type='local',\n",
    "                             hyperparameters={'bucket_name': bucket_name,\n",
    "                                                                 'prefix_name': prefix_name +\"/\" + file_name})\n",
    "\n",
    "mnist_estimator.fit(input_data)"
   ]
  }
 ],
 "metadata": {
  "kernelspec": {
   "display_name": "conda_tensorflow_p36",
   "language": "python",
   "name": "conda_tensorflow_p36"
  },
  "language_info": {
   "codemirror_mode": {
    "name": "ipython",
    "version": 3
   },
   "file_extension": ".py",
   "mimetype": "text/x-python",
   "name": "python",
   "nbconvert_exporter": "python",
   "pygments_lexer": "ipython3",
   "version": "3.6.5"
  }
 },
 "nbformat": 4,
 "nbformat_minor": 2
}
