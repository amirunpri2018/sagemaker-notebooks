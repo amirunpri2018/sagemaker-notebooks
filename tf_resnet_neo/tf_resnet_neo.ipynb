{
 "cells": [
  {
   "cell_type": "markdown",
   "metadata": {},
   "source": [
    "## Tensorflow の学習済みモデルを学習に利用する\n",
    "### 学習済みモデルのダウンロード\n",
    "学習済みモデルがS3にアップロードされていれば、学習インスタンスで読み込んで、学習済みモデルから学習をスタートすることできます。\n",
    "まずは、tensorflowのresnet_v1_50のモデルをダウンロード・解凍します。"
   ]
  },
  {
   "cell_type": "code",
   "execution_count": 184,
   "metadata": {},
   "outputs": [
    {
     "name": "stdout",
     "output_type": "stream",
     "text": [
      "inception_resnet_v2_2016_08_30.ckpt\n"
     ]
    }
   ],
   "source": [
    "import urllib.request\n",
    "import os\n",
    "\n",
    "download_file = \"resnet_v2_152_2017_04_14.tar.gz\"\n",
    "if not os.path.exists(download_file):\n",
    "    url = 'http://download.tensorflow.org/models/resnet_v2_152_2017_04_14.tar.gz'\n",
    "    urllib.request.urlretrieve(url, download_file)\n",
    "    \n",
    "!tar xvzf $download_file"
   ]
  },
  {
   "cell_type": "markdown",
   "metadata": {},
   "source": [
    "## データのダウンロード\n",
    "\n",
    "### Validation dataのGround Truthのダウンロード\n",
    "\n",
    "Tensorflowの学習済みモデルが出力するラベルIDは、ILSVR2012のサイトで確認できるものとは異なり、caffeモデルで採用されているラベルIDとなります、従って、Validation dataのGround TruthのIDを、caffeモデルを配布しているサイト(http://dl.caffe.berkeleyvision.org/caffe_ilsvrc12.tar.gz) からダウンロードします。　Validation dataのGround Truthは、`./gt/val.txt`におかれます。"
   ]
  },
  {
   "cell_type": "code",
   "execution_count": 195,
   "metadata": {},
   "outputs": [
    {
     "name": "stdout",
     "output_type": "stream",
     "text": [
      "--2019-01-13 02:00:48--  http://dl.caffe.berkeleyvision.org/caffe_ilsvrc12.tar.gz\n",
      "Resolving dl.caffe.berkeleyvision.org (dl.caffe.berkeleyvision.org)... 169.229.222.251\n",
      "Connecting to dl.caffe.berkeleyvision.org (dl.caffe.berkeleyvision.org)|169.229.222.251|:80... connected.\n",
      "HTTP request sent, awaiting response... 200 OK\n",
      "Length: 17858008 (17M) [application/octet-stream]\n",
      "Saving to: ‘caffe_ilsvrc12.tar.gz.1’\n",
      "\n",
      "caffe_ilsvrc12.tar. 100%[===================>]  17.03M  18.0MB/s    in 0.9s    \n",
      "\n",
      "2019-01-13 02:00:49 (18.0 MB/s) - ‘caffe_ilsvrc12.tar.gz.1’ saved [17858008/17858008]\n",
      "\n"
     ]
    }
   ],
   "source": [
    "!wget http://dl.caffe.berkeleyvision.org/caffe_ilsvrc12.tar.gz\n",
    "!mkdir gt\n",
    "!tar -xf caffe_ilsvrc12.tar.gz -C ./gt"
   ]
  },
  {
   "cell_type": "markdown",
   "metadata": {},
   "source": [
    "### Validation dataの画像データのダウンロード\n",
    "\n",
    "画像データはILSVRC 2012で配布されているもの(http://www.image-net.org/challenges/LSVRC/2012/nnoupb/ILSVRC2012_img_val.tar) を利用します。非常に大きく、ダウンロードに数時間かかるため、適当なところで停止(■を押すなど)してください。ダウンロードできたところまで展開して、`./images`に保存されます。"
   ]
  },
  {
   "cell_type": "code",
   "execution_count": 13,
   "metadata": {},
   "outputs": [
    {
     "name": "stdout",
     "output_type": "stream",
     "text": [
      "--2019-01-12 11:58:21--  http://www.image-net.org/challenges/LSVRC/2012/nnoupb/ILSVRC2012_img_val.tar\n",
      "Resolving www.image-net.org (www.image-net.org)... 171.64.68.16\n",
      "Connecting to www.image-net.org (www.image-net.org)|171.64.68.16|:80... connected.\n",
      "HTTP request sent, awaiting response... 200 OK\n",
      "Length: 6744924160 (6.3G) [application/x-tar]\n",
      "Saving to: ‘ILSVRC2012_img_val.tar’\n",
      "\n",
      "ILSVRC2012_img_val.   0%[                    ]  22.99M  1.47MB/s    eta 70m 3s ^C\n",
      "tar: Unexpected EOF in archive\n",
      "tar: rmtlseek not stopped at a record boundary\n",
      "tar: Error is not recoverable: exiting now\n"
     ]
    }
   ],
   "source": [
    "!wget http://www.image-net.org/challenges/LSVRC/2012/nnoupb/ILSVRC2012_img_val.tar\n",
    "!tar -xf ILSVRC2012_img_val.tar\n",
    "!mkdir images\n",
    "!mv *.JPEG ./images"
   ]
  },
  {
   "cell_type": "markdown",
   "metadata": {},
   "source": [
    "## モデルのロード\n",
    "モデルのロードの手順は以下のとおりです。\n",
    "1. 入力のテンソルを定義します。画像サイズや値の標準化を行います。\n",
    "2. `nets.resnet_v2.resnet_v2_152`を利用してモデルを構築します。\n",
    "3. ckptファイルを読み込んで、学習済みのパラメータで初期化します。"
   ]
  },
  {
   "cell_type": "code",
   "execution_count": 1,
   "metadata": {},
   "outputs": [
    {
     "name": "stdout",
     "output_type": "stream",
     "text": [
      "INFO:tensorflow:Restoring parameters from resnet_v2_152.ckpt\n"
     ]
    }
   ],
   "source": [
    "import tensorflow as tf\n",
    "from PIL import Image\n",
    "import numpy as np\n",
    "\n",
    "import tensorflow.contrib.slim as slim\n",
    "from  tensorflow.contrib.slim import nets\n",
    "\n",
    "tf.reset_default_graph()\n",
    "\n",
    "checkpoint_file = 'resnet_v2_152.ckpt'\n",
    "\n",
    "input_tensor = tf.placeholder(tf.float32, shape=(None,299,299,3), name='input_image')\n",
    "scaled_input_tensor = tf.scalar_mul((1.0/255), input_tensor)\n",
    "scaled_input_tensor = tf.subtract(scaled_input_tensor, 0.5)\n",
    "scaled_input_tensor = tf.multiply(scaled_input_tensor, 2.0)\n",
    "\n",
    "#Load the model\n",
    "sess = tf.Session()\n",
    "with slim.arg_scope(nets.resnet_v2.resnet_arg_scope()):\n",
    "    logits,end_points = nets.resnet_v2.resnet_v2_152(inputs=scaled_input_tensor, num_classes=1001, is_training=False)\n",
    "saver = tf.train.Saver()\n",
    "saver.restore(sess, checkpoint_file)"
   ]
  },
  {
   "cell_type": "markdown",
   "metadata": {},
   "source": [
    "画像を読み込んでテストしてみます。表示されるラベルは、ダウンロードしたGround Truthのラベルよりも1多いことに注意してください（Resnet v2では背景IDが最初に追加されているためです）。"
   ]
  },
  {
   "cell_type": "code",
   "execution_count": 3,
   "metadata": {},
   "outputs": [
    {
     "name": "stdout",
     "output_type": "stream",
     "text": [
      "[550 505 967 827 899]\n",
      "[7.4968690e-01 2.4663955e-01 9.3139079e-04 1.4105994e-04 7.6621385e-05]\n"
     ]
    }
   ],
   "source": [
    "im = Image.open('images/ILSVRC2012_val_00001545.JPEG').resize((299,299))\n",
    "im = np.array(im)\n",
    "im = im.reshape(-1,299,299,3)\n",
    "prob = sess.run(end_points['predictions'], feed_dict={input_tensor: im})\n",
    "\n",
    "prob = prob.reshape(-1)\n",
    "\n",
    "# top-5 labels (but not sorted)\n",
    "ind = np.argpartition(prob, -5)[-5:]\n",
    "\n",
    "# top-5 labels\n",
    "# Taking negtive (-) yields descending order\n",
    "sorted_class = ind[np.argsort(-prob[ind])]\n",
    "print(sorted_class - 1) # The first class_id is background, which should be removed\n",
    "print(prob[sorted_class])"
   ]
  },
  {
   "cell_type": "markdown",
   "metadata": {},
   "source": [
    "## Tensorflow serving 用のモデルにexport"
   ]
  },
  {
   "cell_type": "markdown",
   "metadata": {},
   "source": [
    "### S3への学習済みモデルのアップロード\n",
    "SageMaker Python SDKを利用して、ファイル resnet_v1_50.ckpt をS3にアップロードします。この学習済みモデルはtf.slimのモデルなので、Tensorflowのスクリプト(cifar100.py)ではtf.slimのモデルとして読み込まれるようにします。"
   ]
  },
  {
   "cell_type": "code",
   "execution_count": null,
   "metadata": {},
   "outputs": [],
   "source": [
    "import sagemaker\n",
    "from sagemaker import get_execution_role\n",
    "\n",
    "sagemaker_session = sagemaker.Session()\n",
    "\n",
    "role = get_execution_role()\n",
    "\n",
    "bucket_name = sagemaker_session.default_bucket()\n",
    "prefix_name  = 'pretrained_model/resnet_tf'\n",
    "file_name = 'resnet_v1_50.ckpt'\n",
    "model_file = sagemaker_session.upload_data(path=file_name, bucket=bucket_name, key_prefix=prefix_name)\n",
    "print('Your pretrained model is uploaded to: {}'.format(model_file))"
   ]
  },
  {
   "cell_type": "markdown",
   "metadata": {},
   "source": [
    "### 学習データのアップロード\n",
    "- 今回はtf.kerasのデータセットからcifar100をダウンロードして利用します。\n",
    "- `convert_to`の関数でtfrecord形式に変換して、アップロードします"
   ]
  },
  {
   "cell_type": "code",
   "execution_count": null,
   "metadata": {},
   "outputs": [],
   "source": [
    "import os\n",
    "import tensorflow as tf\n",
    "\n",
    "def _int64_feature(value):\n",
    "    return tf.train.Feature(int64_list=tf.train.Int64List(value=[value]))\n",
    "\n",
    "def _bytes_feature(value):\n",
    "    return tf.train.Feature(bytes_list=tf.train.BytesList(value=[value]))\n",
    "\n",
    "def convert_to(data_set, filename):\n",
    "    \"\"\"Converts a dataset to tfrecords.\"\"\"\n",
    "    images = data_set[\"images\"]\n",
    "    labels = data_set[\"labels\"]\n",
    "    num_examples = images.shape[0]\n",
    "\n",
    "    rows = images.shape[1]\n",
    "    cols = images.shape[2]\n",
    "    if len(images.shape) > 3:\n",
    "        depth = images.shape[3]\n",
    "    else:\n",
    "        depth = 1\n",
    "        \n",
    "    print('Writing', filename)\n",
    "    writer = tf.python_io.TFRecordWriter(filename)\n",
    "    for index in range(num_examples):\n",
    "        image_raw = images[index].tostring()\n",
    "        example = tf.train.Example(features=tf.train.Features(feature={\n",
    "            'height': _int64_feature(rows),\n",
    "            'width': _int64_feature(cols),\n",
    "            'depth': _int64_feature(depth),\n",
    "            'label': _int64_feature(int(labels[index])),\n",
    "            'image_raw': _bytes_feature(image_raw)}))\n",
    "        writer.write(example.SerializeToString())\n",
    "    writer.close()"
   ]
  },
  {
   "cell_type": "code",
   "execution_count": null,
   "metadata": {},
   "outputs": [],
   "source": [
    "import tensorflow as tf\n",
    "import numpy as np\n",
    "import matplotlib.pyplot as plt\n",
    "(x_train, y_train), (x_test, y_test) = tf.keras.datasets.cifar100.load_data()\n",
    "train = {\"images\": x_train, \"labels\": y_train}\n",
    "test= {\"images\": x_test, \"labels\": y_test}\n",
    "os.makedirs(\"./data\", exist_ok=True)\n",
    "convert_to(train, \"./data/train.tfrecords\")\n",
    "convert_to(test, \"./data/test.tfrecords\")\n",
    "input_data = sagemaker_session.upload_data(path='./data', key_prefix='pretrained_model/data')\n",
    "print('Your pretrained model is uploaded to: {}'.format(input_data))"
   ]
  },
  {
   "cell_type": "markdown",
   "metadata": {},
   "source": [
    "## SageMakerでの学習\n",
    "\n",
    "### Local mode用スクリプトダウンロード\n",
    "\n",
    "デバッグでLocal Modeを実行するために、スクリプトをダウンロードして実行します。"
   ]
  },
  {
   "cell_type": "code",
   "execution_count": null,
   "metadata": {},
   "outputs": [],
   "source": [
    "download_file = \"setup.sh\"\n",
    "if not os.path.exists(download_file):\n",
    "    url = 'https://raw.githubusercontent.com/awslabs/amazon-sagemaker-examples/master/sagemaker-python-sdk/tensorflow_distributed_mnist/setup.sh'\n",
    "    urllib.request.urlretrieve(url, download_file)\n",
    "    \n",
    "!sh setup.sh"
   ]
  },
  {
   "cell_type": "markdown",
   "metadata": {},
   "source": [
    "### 学習済みモデルに対する転移学習の実行\n",
    "- S3にある学習済みモデルの場所をbucket_nameとprefix_nameで渡します。\n",
    "- S3の学習データの場所はinput_dataとしてfitに渡します。\n",
    "- `cifar100.py`内での読み込みは以下のとおりです。boto3でファイルをダウンロード、init_from_checkpointで読み込みます。 \n",
    "\n",
    "(参考)\n",
    "- https://github.com/tensorflow/tensorflow/issues/14713\n",
    "- https://stackoverflow.com/questions/47867748/transfer-learning-with-tf-estimator-estimator-framework\n",
    "\n",
    "```python\n",
    "    bucket_name = params['bucket_name']\n",
    "    prefix_name = params['prefix_name']\n",
    "    s3 = boto3.resource('s3')\n",
    "    try:\n",
    "        s3.Bucket(bucket_name).download_file(prefix_name, 'resnet.ckpt')\n",
    "        print(\"Pretrained model is downloaded.\")\n",
    "    except botocore.exceptions.ClientError as e:\n",
    "        if e.response['Error']['Code'] == \"404\":\n",
    "            print(\"The object does not exist.\")\n",
    "        else:\n",
    "            raise\n",
    "            \n",
    "            ...\n",
    "    tf.train.init_from_checkpoint(\"./resnet.ckpt\",{v.name.split(':')[0]: v for v in variables_to_restore if not 'biases' in v.name})\n",
    "```"
   ]
  },
  {
   "cell_type": "code",
   "execution_count": null,
   "metadata": {},
   "outputs": [],
   "source": [
    "from sagemaker.tensorflow import TensorFlow\n",
    "\n",
    "estimator = TensorFlow(entry_point='cifar100.py',\n",
    "                             role=role,\n",
    "                             framework_version='1.11.0',\n",
    "                             training_steps=100, \n",
    "                             evaluation_steps=10,\n",
    "                             train_instance_count=1,\n",
    "                             train_instance_type='local',\n",
    "                             hyperparameters={'bucket_name': bucket_name,\n",
    "                                                                 'prefix_name': prefix_name +\"/\" + file_name})\n",
    "\n",
    "estimator.fit(input_data)"
   ]
  }
 ],
 "metadata": {
  "kernelspec": {
   "display_name": "conda_tensorflow_p36",
   "language": "python",
   "name": "conda_tensorflow_p36"
  },
  "language_info": {
   "codemirror_mode": {
    "name": "ipython",
    "version": 3
   },
   "file_extension": ".py",
   "mimetype": "text/x-python",
   "name": "python",
   "nbconvert_exporter": "python",
   "pygments_lexer": "ipython3",
   "version": "3.6.5"
  }
 },
 "nbformat": 4,
 "nbformat_minor": 2
}
