{
 "cells": [
  {
   "cell_type": "markdown",
   "metadata": {},
   "source": [
    "# Scikit-learnの学習と推論\n",
    "\n",
    "scikit-learn用のSageMakerのコンテナは用意されていませんが、Chainer用のコンテナが非常にシンプルな作りになっているので、エントリーポイントを工夫してscikit-learnを扱えるコンテナにします。\n",
    "\n",
    "## データのダウンロード\n",
    "\n",
    "SVMの基本用途として2値分類を行います。ここではキノコのデータから、そのキノコが食べられるのか、食べられないのかを判定します。詳細は[こちら](https://archive.ics.uci.edu/ml/datasets/mushroom)をご覧ください。データはlibsvmのサイトのものを利用します。\n",
    "\n",
    "データはlibsvm形式なので、scikit-learnが扱いやすいようにnumpyのファイル形式(.npz)にします。\n"
   ]
  },
  {
   "cell_type": "code",
   "execution_count": null,
   "metadata": {},
   "outputs": [],
   "source": [
    "import os\n",
    "import urllib.request\n",
    "from sklearn.datasets import load_svmlight_file\n",
    "\n",
    "\n",
    "os.makedirs(\"data/\", exist_ok=True)\n",
    "# downlaod data -> X:feature, y: label\n",
    "data_url =\"https://www.csie.ntu.edu.tw/~cjlin/libsvmtools/datasets/binary/mushrooms\"\n",
    "urllib.request.urlretrieve(data_url, \"./data/mushroom\")\n",
    "data = load_svmlight_file(\"./data/mushroom\")\n",
    "X, y = data[0].todense(),data[1]\n",
    "\n",
    "# split data into validation data and training data\n",
    "import numpy as np\n",
    "np.random.seed(seed=1)\n",
    "n_alldata = X.shape[0]\n",
    "n_val = int(n_alldata * 0.1)\n",
    "n_test = int(n_alldata * 0.1)\n",
    "\n",
    "# Draw validation data from alldata\n",
    "val_index = np.random.choice(n_alldata, n_val)\n",
    "# Draw test data after removing val data\n",
    "rest = np.setdiff1d(range(n_alldata), val_index)\n",
    "test_index = np.random.choice(rest, n_test)\n",
    "# Training_data is the rest of data\n",
    "train_index = np.setdiff1d(rest, test_index)\n",
    "\n",
    "X_train = X[train_index]\n",
    "y_train = y[train_index]\n",
    "X_val = X[val_index]\n",
    "y_val = y[val_index]\n",
    "X_test = X[test_index]\n",
    "y_test = y[test_index]\n",
    "\n",
    "os.makedirs(\"data/train\", exist_ok=True)\n",
    "np.savez('./data/train/train.npz', feature=X_train, label=y_train)\n",
    "os.makedirs(\"data/val\", exist_ok=True)\n",
    "np.savez('./data/val/val.npz', feature=X_val, label=y_val)"
   ]
  },
  {
   "cell_type": "markdown",
   "metadata": {},
   "source": [
    "## データのアップロード"
   ]
  },
  {
   "cell_type": "code",
   "execution_count": null,
   "metadata": {},
   "outputs": [],
   "source": [
    "import sagemaker\n",
    "sagemaker_session = sagemaker.Session()\n",
    "\n",
    "train_input = sagemaker_session.upload_data(\n",
    "    path=os.path.join('./data', 'train'),\n",
    "    key_prefix='sklearn/mushroom/train')\n",
    "val_input = sagemaker_session.upload_data(\n",
    "    path=os.path.join('./data', 'val'),\n",
    "    key_prefix='sklearn/mushroom/val')\n",
    "print(\"training data is uploaded to {}\".format(train_input))\n",
    "print(\"validation data is uploaded to {}\".format(val_input))\n"
   ]
  },
  {
   "cell_type": "markdown",
   "metadata": {},
   "source": [
    "## 学習\n",
    "\n",
    "Chainerのコンテナを利用します。その理由として：\n",
    "- Chainerのコンテナを利用する場合は、学習用のコードを``if __name__=='__main__':``に書けばよいだけなので非常に制約が緩い。その関数の中身がchainerである必要もないのでscikit-learnのコードを書ける。\n",
    "- scikit-learnのアルゴリズムは分散学習に対応していないので、分散学習のコードを必要としない。\n",
    "- 唯一、推論用に用意された``default_predict_fn``がchainerのモデルを読み込めるようにchainerに特化した形で定義されている。この関数は、エントリーポイント内の``predict_fn``でoverrideされるので、chainerのモデルではなくscikit-learnのモデルを読めるように定義する。\n",
    "\n",
    "コンテナ内でscikit-learnを使うために`pip install scikit-learn`をコンテナ内で実行する必要がありますが、`requirements.txt`に\n",
    "```\n",
    "scikit-learn\n",
    "```\n",
    "と1行書いて、エントリーポイントと同じ``source_dir``に置くと、コンテナ起動時にpipで自動インストールされます。\n",
    "\n",
    "(補足: 2018/10/27時点)\n",
    "- `SVM`と`RandomForest`を実装しています。hyperparameterで`{'algorithm': 'SVM'}`や`{'algorithm': 'RandomForest'}`のように指定してください。\n",
    "- SVMで99.7%、RandomForestで100%(!)の精度が出ることがあります。\n"
   ]
  },
  {
   "cell_type": "code",
   "execution_count": null,
   "metadata": {},
   "outputs": [],
   "source": [
    "from sagemaker import get_execution_role\n",
    "from sagemaker.chainer.estimator import Chainer\n",
    "role = get_execution_role()\n",
    "\n",
    "instance_type = 'ml.m4.xlarge'\n",
    "sklearn_estimator = Chainer(entry_point='mushroom.py',\n",
    "                            source_dir='source_dir',\n",
    "                            role=role,\n",
    "                            train_instance_count=1, \n",
    "                            train_instance_type=instance_type,\n",
    "                            hyperparameters={'algorithm': 'RandomForest'})\n",
    "\n",
    "sklearn_estimator.fit({'train': train_input, 'test': val_input})"
   ]
  },
  {
   "cell_type": "markdown",
   "metadata": {},
   "source": [
    "## 推論\n",
    "\n",
    "`deploy`という関数を呼び出してエンドポイントを作成します。エントリーポイント内の`model_fn`と`predict_fn`を見るとわかりますが、エンドポイント側の処理をまとめると以下のようになります。単純にS3にアップロードされているモデル(pkl)を読み出して、scikit-learnのpredictを実行しているだけです。\n",
    "```python\n",
    "with  open(os.path.join(model_dir, 'model.pkl'), 'rb') as pickle_file:\n",
    "    model = pickle.load(pickle_file)\n",
    "return  model.predict(data)    \n",
    "```"
   ]
  },
  {
   "cell_type": "code",
   "execution_count": null,
   "metadata": {},
   "outputs": [],
   "source": [
    "instance_type = 'ml.m4.xlarge'\n",
    "predictor = sklearn_estimator.deploy(initial_instance_count=1, instance_type=instance_type)"
   ]
  },
  {
   "cell_type": "markdown",
   "metadata": {},
   "source": [
    "あらかじめ用意しておいたテストデータ`X_test`をエンドポイントに送信して予測結果を得ます。1が毒キノコ、2が食べられるキノコを表しています。"
   ]
  },
  {
   "cell_type": "code",
   "execution_count": null,
   "metadata": {},
   "outputs": [],
   "source": [
    "from sklearn.metrics import accuracy_score\n",
    "y_pred = predictor.predict(X_test)\n",
    "accuracy = accuracy_score(y_test, y_pred)\n",
    "print(\"Accuracy: {}\".format(accuracy))\n",
    "print(y_pred)\n"
   ]
  }
 ],
 "metadata": {
  "kernelspec": {
   "display_name": "conda_chainer_p36",
   "language": "python",
   "name": "conda_chainer_p36"
  },
  "language_info": {
   "codemirror_mode": {
    "name": "ipython",
    "version": 3
   },
   "file_extension": ".py",
   "mimetype": "text/x-python",
   "name": "python",
   "nbconvert_exporter": "python",
   "pygments_lexer": "ipython3",
   "version": "3.6.5"
  }
 },
 "nbformat": 4,
 "nbformat_minor": 2
}
