{
 "cells": [
  {
   "cell_type": "code",
   "execution_count": 15,
   "metadata": {},
   "outputs": [
    {
     "data": {
      "text/plain": [
       "('/home/ec2-user/SageMaker/efs/food101/food-101.tar.gz',\n",
       " <http.client.HTTPMessage at 0x7f5ad412d128>)"
      ]
     },
     "execution_count": 15,
     "metadata": {},
     "output_type": "execute_result"
    }
   ],
   "source": [
    "import os \n",
    "import sys\n",
    "\n",
    "'''\n",
    "Create directory of dataset:\n",
    "- efs_dir: mount point of efs\n",
    "- dataset_dir: name of a directory to store dataset\n",
    "'''\n",
    "efs_dir = \"/home/ec2-user/SageMaker/efs\"\n",
    "dataset_dir = \"food101\"\n",
    "if not os.path.exists(efs_dir):\n",
    "    print(\"Mount EFS on notebook instance. Food-101 dataset is very large.\")\n",
    "    sys.exit()\n",
    "elif not os.path.exists(os.path.join(efs_dir, dataset_dir)):\n",
    "    print(\"Creating dataset directory {}\".format(os.path.join(efs_dir, dataset_dir)))\n",
    "    os.mkdir(os.path.join(efs_dir, dataset_dir))\n",
    "    \n",
    "'''\n",
    "Download dataset (This takes 20-30 minutes.)\n",
    "'''\n",
    "import urllib.request\n",
    "url = 'http://data.vision.ee.ethz.ch/cvl/food-101.tar.gz'\n",
    "urllib.request.urlretrieve(url, os.path.join(efs_dir, dataset_dir, 'food-101.tar.gz'))"
   ]
  },
  {
   "cell_type": "code",
   "execution_count": null,
   "metadata": {},
   "outputs": [],
   "source": [
    "import tarfile\n",
    "file_name =  os.path.join(efs_dir, dataset_dir, 'food-101.tar.gz')\n",
    "tar = tarfile.open(file_name, \"r:gz\")\n",
    "tar.extractall(path=os.path.join(efs_dir, dataset_dir))\n",
    "tar.close()"
   ]
  },
  {
   "cell_type": "code",
   "execution_count": 5,
   "metadata": {},
   "outputs": [
    {
     "name": "stdout",
     "output_type": "stream",
     "text": [
      " extracting edge from images 1000/1000"
     ]
    }
   ],
   "source": [
    "food_name = 'ramen'\n",
    "edge_dir = 'ramen_edge'\n",
    "image_path = os.path.join(efs_dir, dataset_dir, 'food-101', 'images', food_name)\n",
    "edge_path = os.path.join(efs_dir, dataset_dir,'food-101', 'images', edge_dir)\n",
    "\n",
    "from PIL import Image, ImageFilter\n",
    "if not os.path.exists(edge_path):\n",
    "    print(\"Create directory to store edge-images\")\n",
    "    os.mkdir(edge_path)\n",
    "\n",
    "count = 0\n",
    "for f in os.listdir(image_path):\n",
    "    print('\\r extracting edge from images {}/{}'.format(str(count+1),len(os.listdir(image_path))), end=\"\")\n",
    "    image = Image.open(os.path.join(image_path, f))\n",
    "    image = image.filter(ImageFilter.FIND_EDGES)\n",
    "    image = image.filter(ImageFilter.CONTOUR)\n",
    "    image = image.convert(\"L\")           \n",
    "    image = image.point(lambda x: 0 if x < 100 else x)\n",
    "    image.save(os.path.join(edge_path, f)) \n",
    "    count+=1"
   ]
  },
  {
   "cell_type": "code",
   "execution_count": 6,
   "metadata": {},
   "outputs": [],
   "source": [
    "import sagemaker\n",
    "from sagemaker.mxnet import MXNet\n",
    "\n",
    "sagemaker_session = sagemaker.Session()\n",
    "role = sagemaker.get_execution_role()\n",
    "\n",
    "input_img = sagemaker_session.upload_data(path=edge_path, key_prefix='food101/edge_ramen')\n",
    "output_img  = sagemaker_session.upload_data(path=image_path, key_prefix='food101/image_ramen')"
   ]
  },
  {
   "cell_type": "code",
   "execution_count": 7,
   "metadata": {},
   "outputs": [
    {
     "name": "stdout",
     "output_type": "stream",
     "text": [
      "--2018-09-16 01:18:04--  https://raw.githubusercontent.com/awslabs/amazon-sagemaker-examples/master/sagemaker-python-sdk/mxnet_gluon_cifar10/setup.sh\n",
      "Resolving raw.githubusercontent.com (raw.githubusercontent.com)... 151.101.72.133\n",
      "Connecting to raw.githubusercontent.com (raw.githubusercontent.com)|151.101.72.133|:443... connected.\n",
      "HTTP request sent, awaiting response... 200 OK\n",
      "Length: 2445 (2.4K) [text/plain]\n",
      "Saving to: ‘setup.sh.1’\n",
      "\n",
      "setup.sh.1          100%[===================>]   2.39K  --.-KB/s    in 0s      \n",
      "\n",
      "2018-09-16 01:18:04 (50.4 MB/s) - ‘setup.sh.1’ saved [2445/2445]\n",
      "\n",
      "SageMaker instance route table setup is ok. We are good to go.\n",
      "SageMaker instance routing for Docker is ok. We are good to go!\n"
     ]
    }
   ],
   "source": [
    "!wget https://raw.githubusercontent.com/awslabs/amazon-sagemaker-examples/master/sagemaker-python-sdk/mxnet_gluon_cifar10/setup.sh\n",
    "!sh ./setup.sh"
   ]
  },
  {
   "cell_type": "code",
   "execution_count": 14,
   "metadata": {},
   "outputs": [],
   "source": [
    "mxnet_estimator = MXNet('pix2pix.py',\n",
    "                          role=role, \n",
    "                          train_instance_count=1,\n",
    "                          train_instance_type='local',\n",
    "                          hyperparameters={'batch_size': 32,\n",
    "                                           'epochs': 100,\n",
    "                                           'learning_rate': 0.0002,\n",
    "                                           'beta1': 0.5,\n",
    "                                           'lambda1': 100})"
   ]
  },
  {
   "cell_type": "code",
   "execution_count": 15,
   "metadata": {},
   "outputs": [
    {
     "name": "stderr",
     "output_type": "stream",
     "text": [
      "INFO:sagemaker:Creating training-job with name: sagemaker-mxnet-2018-09-16-01-22-37-707\n"
     ]
    },
    {
     "name": "stdout",
     "output_type": "stream",
     "text": [
      "Pulling algo-1-74V7D (520713654638.dkr.ecr.ap-northeast-1.amazonaws.com/sagemaker-mxnet:1.2-cpu-py2)...\n",
      "1.2-cpu-py2: Pulling from sagemaker-mxnet\n",
      "Digest: sha256:9292494350b8d76e0771516fef512efad1ac839033fd5a43ac0585069f9252af\n",
      "Status: Downloaded newer image for 520713654638.dkr.ecr.ap-northeast-1.amazonaws.com/sagemaker-mxnet:1.2-cpu-py2\n",
      "Creating tmpmgi60gnn_algo-1-74V7D_1 ... \n",
      "\u001b[1BAttaching to tmpmgi60gnn_algo-1-74V7D_12mdone\u001b[0m\n",
      "\u001b[36malgo-1-74V7D_1  |\u001b[0m 2018-09-16 01:25:25,097 INFO - root - running container entrypoint\n",
      "\u001b[36malgo-1-74V7D_1  |\u001b[0m 2018-09-16 01:25:25,098 INFO - root - starting train task\n",
      "\u001b[36malgo-1-74V7D_1  |\u001b[0m 2018-09-16 01:25:25,104 INFO - container_support.training - Training starting\n",
      "\u001b[36malgo-1-74V7D_1  |\u001b[0m 2018-09-16 01:25:25,583 INFO - mxnet_container.train - MXNetTrainingEnvironment: {'enable_cloudwatch_metrics': False, 'available_gpus': 0, 'channels': {u'feature': {u'ContentType': u'application/octet-stream'}, u'label': {u'ContentType': u'application/octet-stream'}}, '_ps_verbose': 0, 'resource_config': {u'hosts': [u'algo-1-74V7D'], u'current_host': u'algo-1-74V7D'}, 'user_script_name': u'pix2pix.py', 'input_config_dir': '/opt/ml/input/config', 'channel_dirs': {u'feature': u'/opt/ml/input/data/feature', u'label': u'/opt/ml/input/data/label'}, 'code_dir': '/opt/ml/code', 'output_data_dir': '/opt/ml/output/data/', 'output_dir': '/opt/ml/output', 'model_dir': '/opt/ml/model', 'hyperparameters': {u'sagemaker_program': u'pix2pix.py', u'learning_rate': 0.0002, u'batch_size': 32, u'lambda1': 100, u'epochs': 100, u'sagemaker_submit_directory': u's3://sagemaker-ap-northeast-1-373011628954/sagemaker-mxnet-2018-09-16-01-22-37-707/source/sourcedir.tar.gz', u'beta1': 0.5, u'sagemaker_region': u'ap-northeast-1', u'sagemaker_enable_cloudwatch_metrics': False, u'sagemaker_job_name': u'sagemaker-mxnet-2018-09-16-01-22-37-707', u'sagemaker_container_log_level': 20}, 'hosts': [u'algo-1-74V7D'], 'job_name': None, '_ps_port': 8000, 'user_script_archive': u's3://sagemaker-ap-northeast-1-373011628954/sagemaker-mxnet-2018-09-16-01-22-37-707/source/sourcedir.tar.gz', '_scheduler_host': u'algo-1-74V7D', 'sagemaker_region': u'ap-northeast-1', '_scheduler_ip': '172.18.0.2', 'input_dir': '/opt/ml/input', 'user_requirements_file': None, 'current_host': u'algo-1-74V7D', 'container_log_level': 20, 'available_cpus': 2, 'base_dir': '/opt/ml'}\n",
      "\u001b[36malgo-1-74V7D_1  |\u001b[0m Downloading s3://sagemaker-ap-northeast-1-373011628954/sagemaker-mxnet-2018-09-16-01-22-37-707/source/sourcedir.tar.gz to /tmp/script.tar.gz\n",
      "\u001b[36malgo-1-74V7D_1  |\u001b[0m 2018-09-16 01:25:25,913 INFO - mxnet_container.train - Starting distributed training task\n",
      "\u001b[36malgo-1-74V7D_1  |\u001b[0m 2018-09-16 01:25:25,931:57:INFO:{u'feature': u'/opt/ml/input/data/feature', u'label': u'/opt/ml/input/data/label'}\n",
      "\u001b[36malgo-1-74V7D_1  |\u001b[0m 2018-09-16 01:25:25,931 INFO - LoggingTest - {u'feature': u'/opt/ml/input/data/feature', u'label': u'/opt/ml/input/data/label'}\n",
      "\u001b[36malgo-1-74V7D_1  |\u001b[0m 2018-09-16 01:25:25,966 ERROR - container_support.training - uncaught exception during training: 'training'\n",
      "\u001b[36malgo-1-74V7D_1  |\u001b[0m Traceback (most recent call last):\n",
      "\u001b[36malgo-1-74V7D_1  |\u001b[0m   File \"/usr/local/lib/python2.7/dist-packages/container_support/training.py\", line 36, in start\n",
      "\u001b[36malgo-1-74V7D_1  |\u001b[0m     fw.train()\n",
      "\u001b[36malgo-1-74V7D_1  |\u001b[0m   File \"/usr/local/lib/python2.7/dist-packages/mxnet_container/train.py\", line 191, in train\n",
      "\u001b[36malgo-1-74V7D_1  |\u001b[0m     model = user_module.train(**kwargs_to_pass)\n",
      "\u001b[36malgo-1-74V7D_1  |\u001b[0m   File \"/opt/ml/code/pix2pix.py\", line 78, in train\n",
      "\u001b[36malgo-1-74V7D_1  |\u001b[0m     data_dir = channel_input_dirs['training']\n",
      "\u001b[36malgo-1-74V7D_1  |\u001b[0m KeyError: 'training'\n",
      "\u001b[36malgo-1-74V7D_1  |\u001b[0m \n",
      "\u001b[36malgo-1-74V7D_1  |\u001b[0m \n",
      "\u001b[36mtmpmgi60gnn_algo-1-74V7D_1 exited with code 1\n",
      "\u001b[0mAborting on container exit...\n"
     ]
    },
    {
     "ename": "RuntimeError",
     "evalue": "Failed to run: ['docker-compose', '-f', '/tmp/tmpmgi60gnn/docker-compose.yaml', 'up', '--build', '--abort-on-container-exit'], Process exited with code: 1",
     "output_type": "error",
     "traceback": [
      "\u001b[0;31m---------------------------------------------------------------------------\u001b[0m",
      "\u001b[0;31mRuntimeError\u001b[0m                              Traceback (most recent call last)",
      "\u001b[0;32m~/anaconda3/envs/mxnet_p36/lib/python3.6/site-packages/sagemaker/local/image.py\u001b[0m in \u001b[0;36mtrain\u001b[0;34m(self, input_data_config, hyperparameters)\u001b[0m\n\u001b[1;32m    111\u001b[0m         \u001b[0;32mtry\u001b[0m\u001b[0;34m:\u001b[0m\u001b[0;34m\u001b[0m\u001b[0m\n\u001b[0;32m--> 112\u001b[0;31m             \u001b[0m_stream_output\u001b[0m\u001b[0;34m(\u001b[0m\u001b[0mprocess\u001b[0m\u001b[0;34m)\u001b[0m\u001b[0;34m\u001b[0m\u001b[0m\n\u001b[0m\u001b[1;32m    113\u001b[0m         \u001b[0;32mexcept\u001b[0m \u001b[0mRuntimeError\u001b[0m \u001b[0;32mas\u001b[0m \u001b[0me\u001b[0m\u001b[0;34m:\u001b[0m\u001b[0;34m\u001b[0m\u001b[0m\n",
      "\u001b[0;32m~/anaconda3/envs/mxnet_p36/lib/python3.6/site-packages/sagemaker/local/image.py\u001b[0m in \u001b[0;36m_stream_output\u001b[0;34m(process)\u001b[0m\n\u001b[1;32m    575\u001b[0m     \u001b[0;32mif\u001b[0m \u001b[0mexit_code\u001b[0m \u001b[0;34m!=\u001b[0m \u001b[0;36m0\u001b[0m\u001b[0;34m:\u001b[0m\u001b[0;34m\u001b[0m\u001b[0m\n\u001b[0;32m--> 576\u001b[0;31m         \u001b[0;32mraise\u001b[0m \u001b[0mRuntimeError\u001b[0m\u001b[0;34m(\u001b[0m\u001b[0;34m\"Process exited with code: %s\"\u001b[0m \u001b[0;34m%\u001b[0m \u001b[0mexit_code\u001b[0m\u001b[0;34m)\u001b[0m\u001b[0;34m\u001b[0m\u001b[0m\n\u001b[0m\u001b[1;32m    577\u001b[0m \u001b[0;34m\u001b[0m\u001b[0m\n",
      "\u001b[0;31mRuntimeError\u001b[0m: Process exited with code: 1",
      "\nDuring handling of the above exception, another exception occurred:\n",
      "\u001b[0;31mRuntimeError\u001b[0m                              Traceback (most recent call last)",
      "\u001b[0;32m<ipython-input-15-b88c37c53fdf>\u001b[0m in \u001b[0;36m<module>\u001b[0;34m()\u001b[0m\n\u001b[0;32m----> 1\u001b[0;31m \u001b[0mmxnet_estimator\u001b[0m\u001b[0;34m.\u001b[0m\u001b[0mfit\u001b[0m\u001b[0;34m(\u001b[0m\u001b[0;34m{\u001b[0m\u001b[0;34m'feature'\u001b[0m\u001b[0;34m:\u001b[0m \u001b[0minput_img\u001b[0m\u001b[0;34m,\u001b[0m \u001b[0;34m'label'\u001b[0m\u001b[0;34m:\u001b[0m \u001b[0moutput_img\u001b[0m\u001b[0;34m}\u001b[0m\u001b[0;34m)\u001b[0m\u001b[0;34m\u001b[0m\u001b[0m\n\u001b[0m",
      "\u001b[0;32m~/anaconda3/envs/mxnet_p36/lib/python3.6/site-packages/sagemaker/estimator.py\u001b[0m in \u001b[0;36mfit\u001b[0;34m(self, inputs, wait, logs, job_name)\u001b[0m\n\u001b[1;32m    186\u001b[0m         \u001b[0mself\u001b[0m\u001b[0;34m.\u001b[0m\u001b[0m_prepare_for_training\u001b[0m\u001b[0;34m(\u001b[0m\u001b[0mjob_name\u001b[0m\u001b[0;34m=\u001b[0m\u001b[0mjob_name\u001b[0m\u001b[0;34m)\u001b[0m\u001b[0;34m\u001b[0m\u001b[0m\n\u001b[1;32m    187\u001b[0m \u001b[0;34m\u001b[0m\u001b[0m\n\u001b[0;32m--> 188\u001b[0;31m         \u001b[0mself\u001b[0m\u001b[0;34m.\u001b[0m\u001b[0mlatest_training_job\u001b[0m \u001b[0;34m=\u001b[0m \u001b[0m_TrainingJob\u001b[0m\u001b[0;34m.\u001b[0m\u001b[0mstart_new\u001b[0m\u001b[0;34m(\u001b[0m\u001b[0mself\u001b[0m\u001b[0;34m,\u001b[0m \u001b[0minputs\u001b[0m\u001b[0;34m)\u001b[0m\u001b[0;34m\u001b[0m\u001b[0m\n\u001b[0m\u001b[1;32m    189\u001b[0m         \u001b[0;32mif\u001b[0m \u001b[0mwait\u001b[0m\u001b[0;34m:\u001b[0m\u001b[0;34m\u001b[0m\u001b[0m\n\u001b[1;32m    190\u001b[0m             \u001b[0mself\u001b[0m\u001b[0;34m.\u001b[0m\u001b[0mlatest_training_job\u001b[0m\u001b[0;34m.\u001b[0m\u001b[0mwait\u001b[0m\u001b[0;34m(\u001b[0m\u001b[0mlogs\u001b[0m\u001b[0;34m=\u001b[0m\u001b[0mlogs\u001b[0m\u001b[0;34m)\u001b[0m\u001b[0;34m\u001b[0m\u001b[0m\n",
      "\u001b[0;32m~/anaconda3/envs/mxnet_p36/lib/python3.6/site-packages/sagemaker/estimator.py\u001b[0m in \u001b[0;36mstart_new\u001b[0;34m(cls, estimator, inputs)\u001b[0m\n\u001b[1;32m    410\u001b[0m                                           \u001b[0mresource_config\u001b[0m\u001b[0;34m=\u001b[0m\u001b[0mconfig\u001b[0m\u001b[0;34m[\u001b[0m\u001b[0;34m'resource_config'\u001b[0m\u001b[0;34m]\u001b[0m\u001b[0;34m,\u001b[0m \u001b[0mvpc_config\u001b[0m\u001b[0;34m=\u001b[0m\u001b[0mconfig\u001b[0m\u001b[0;34m[\u001b[0m\u001b[0;34m'vpc_config'\u001b[0m\u001b[0;34m]\u001b[0m\u001b[0;34m,\u001b[0m\u001b[0;34m\u001b[0m\u001b[0m\n\u001b[1;32m    411\u001b[0m                                           \u001b[0mhyperparameters\u001b[0m\u001b[0;34m=\u001b[0m\u001b[0mhyperparameters\u001b[0m\u001b[0;34m,\u001b[0m \u001b[0mstop_condition\u001b[0m\u001b[0;34m=\u001b[0m\u001b[0mconfig\u001b[0m\u001b[0;34m[\u001b[0m\u001b[0;34m'stop_condition'\u001b[0m\u001b[0;34m]\u001b[0m\u001b[0;34m,\u001b[0m\u001b[0;34m\u001b[0m\u001b[0m\n\u001b[0;32m--> 412\u001b[0;31m                                           tags=estimator.tags)\n\u001b[0m\u001b[1;32m    413\u001b[0m \u001b[0;34m\u001b[0m\u001b[0m\n\u001b[1;32m    414\u001b[0m         \u001b[0;32mreturn\u001b[0m \u001b[0mcls\u001b[0m\u001b[0;34m(\u001b[0m\u001b[0mestimator\u001b[0m\u001b[0;34m.\u001b[0m\u001b[0msagemaker_session\u001b[0m\u001b[0;34m,\u001b[0m \u001b[0mestimator\u001b[0m\u001b[0;34m.\u001b[0m\u001b[0m_current_job_name\u001b[0m\u001b[0;34m)\u001b[0m\u001b[0;34m\u001b[0m\u001b[0m\n",
      "\u001b[0;32m~/anaconda3/envs/mxnet_p36/lib/python3.6/site-packages/sagemaker/session.py\u001b[0m in \u001b[0;36mtrain\u001b[0;34m(self, image, input_mode, input_config, role, job_name, output_config, resource_config, vpc_config, hyperparameters, stop_condition, tags)\u001b[0m\n\u001b[1;32m    276\u001b[0m         \u001b[0mLOGGER\u001b[0m\u001b[0;34m.\u001b[0m\u001b[0minfo\u001b[0m\u001b[0;34m(\u001b[0m\u001b[0;34m'Creating training-job with name: {}'\u001b[0m\u001b[0;34m.\u001b[0m\u001b[0mformat\u001b[0m\u001b[0;34m(\u001b[0m\u001b[0mjob_name\u001b[0m\u001b[0;34m)\u001b[0m\u001b[0;34m)\u001b[0m\u001b[0;34m\u001b[0m\u001b[0m\n\u001b[1;32m    277\u001b[0m         \u001b[0mLOGGER\u001b[0m\u001b[0;34m.\u001b[0m\u001b[0mdebug\u001b[0m\u001b[0;34m(\u001b[0m\u001b[0;34m'train request: {}'\u001b[0m\u001b[0;34m.\u001b[0m\u001b[0mformat\u001b[0m\u001b[0;34m(\u001b[0m\u001b[0mjson\u001b[0m\u001b[0;34m.\u001b[0m\u001b[0mdumps\u001b[0m\u001b[0;34m(\u001b[0m\u001b[0mtrain_request\u001b[0m\u001b[0;34m,\u001b[0m \u001b[0mindent\u001b[0m\u001b[0;34m=\u001b[0m\u001b[0;36m4\u001b[0m\u001b[0;34m)\u001b[0m\u001b[0;34m)\u001b[0m\u001b[0;34m)\u001b[0m\u001b[0;34m\u001b[0m\u001b[0m\n\u001b[0;32m--> 278\u001b[0;31m         \u001b[0mself\u001b[0m\u001b[0;34m.\u001b[0m\u001b[0msagemaker_client\u001b[0m\u001b[0;34m.\u001b[0m\u001b[0mcreate_training_job\u001b[0m\u001b[0;34m(\u001b[0m\u001b[0;34m**\u001b[0m\u001b[0mtrain_request\u001b[0m\u001b[0;34m)\u001b[0m\u001b[0;34m\u001b[0m\u001b[0m\n\u001b[0m\u001b[1;32m    279\u001b[0m \u001b[0;34m\u001b[0m\u001b[0m\n\u001b[1;32m    280\u001b[0m     def tune(self, job_name, strategy, objective_type, objective_metric_name,\n",
      "\u001b[0;32m~/anaconda3/envs/mxnet_p36/lib/python3.6/site-packages/sagemaker/local/local_session.py\u001b[0m in \u001b[0;36mcreate_training_job\u001b[0;34m(self, TrainingJobName, AlgorithmSpecification, RoleArn, InputDataConfig, OutputDataConfig, ResourceConfig, StoppingCondition, HyperParameters, Tags)\u001b[0m\n\u001b[1;32m     73\u001b[0m                                    data_distribution)\n\u001b[1;32m     74\u001b[0m \u001b[0;34m\u001b[0m\u001b[0m\n\u001b[0;32m---> 75\u001b[0;31m         \u001b[0mself\u001b[0m\u001b[0;34m.\u001b[0m\u001b[0ms3_model_artifacts\u001b[0m \u001b[0;34m=\u001b[0m \u001b[0mself\u001b[0m\u001b[0;34m.\u001b[0m\u001b[0mtrain_container\u001b[0m\u001b[0;34m.\u001b[0m\u001b[0mtrain\u001b[0m\u001b[0;34m(\u001b[0m\u001b[0mInputDataConfig\u001b[0m\u001b[0;34m,\u001b[0m \u001b[0mHyperParameters\u001b[0m\u001b[0;34m)\u001b[0m\u001b[0;34m\u001b[0m\u001b[0m\n\u001b[0m\u001b[1;32m     76\u001b[0m \u001b[0;34m\u001b[0m\u001b[0m\n\u001b[1;32m     77\u001b[0m     \u001b[0;32mdef\u001b[0m \u001b[0mdescribe_training_job\u001b[0m\u001b[0;34m(\u001b[0m\u001b[0mself\u001b[0m\u001b[0;34m,\u001b[0m \u001b[0mTrainingJobName\u001b[0m\u001b[0;34m)\u001b[0m\u001b[0;34m:\u001b[0m\u001b[0;34m\u001b[0m\u001b[0m\n",
      "\u001b[0;32m~/anaconda3/envs/mxnet_p36/lib/python3.6/site-packages/sagemaker/local/image.py\u001b[0m in \u001b[0;36mtrain\u001b[0;34m(self, input_data_config, hyperparameters)\u001b[0m\n\u001b[1;32m    115\u001b[0m             \u001b[0;31m# which contains the exit code and append the command line to it.\u001b[0m\u001b[0;34m\u001b[0m\u001b[0;34m\u001b[0m\u001b[0m\n\u001b[1;32m    116\u001b[0m             \u001b[0mmsg\u001b[0m \u001b[0;34m=\u001b[0m \u001b[0;34m\"Failed to run: %s, %s\"\u001b[0m \u001b[0;34m%\u001b[0m \u001b[0;34m(\u001b[0m\u001b[0mcompose_command\u001b[0m\u001b[0;34m,\u001b[0m \u001b[0mstr\u001b[0m\u001b[0;34m(\u001b[0m\u001b[0me\u001b[0m\u001b[0;34m)\u001b[0m\u001b[0;34m)\u001b[0m\u001b[0;34m\u001b[0m\u001b[0m\n\u001b[0;32m--> 117\u001b[0;31m             \u001b[0;32mraise\u001b[0m \u001b[0mRuntimeError\u001b[0m\u001b[0;34m(\u001b[0m\u001b[0mmsg\u001b[0m\u001b[0;34m)\u001b[0m\u001b[0;34m\u001b[0m\u001b[0m\n\u001b[0m\u001b[1;32m    118\u001b[0m \u001b[0;34m\u001b[0m\u001b[0m\n\u001b[1;32m    119\u001b[0m         \u001b[0ms3_artifacts\u001b[0m \u001b[0;34m=\u001b[0m \u001b[0mself\u001b[0m\u001b[0;34m.\u001b[0m\u001b[0mretrieve_artifacts\u001b[0m\u001b[0;34m(\u001b[0m\u001b[0mcompose_data\u001b[0m\u001b[0;34m)\u001b[0m\u001b[0;34m\u001b[0m\u001b[0m\n",
      "\u001b[0;31mRuntimeError\u001b[0m: Failed to run: ['docker-compose', '-f', '/tmp/tmpmgi60gnn/docker-compose.yaml', 'up', '--build', '--abort-on-container-exit'], Process exited with code: 1"
     ]
    }
   ],
   "source": [
    "mxnet_estimator.fit({'feature': input_img, 'label': output_img})"
   ]
  }
 ],
 "metadata": {
  "kernelspec": {
   "display_name": "conda_mxnet_p36",
   "language": "python",
   "name": "conda_mxnet_p36"
  },
  "language_info": {
   "codemirror_mode": {
    "name": "ipython",
    "version": 3
   },
   "file_extension": ".py",
   "mimetype": "text/x-python",
   "name": "python",
   "nbconvert_exporter": "python",
   "pygments_lexer": "ipython3",
   "version": "3.6.5"
  }
 },
 "nbformat": 4,
 "nbformat_minor": 2
}
