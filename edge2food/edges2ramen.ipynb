{
 "cells": [
  {
   "cell_type": "code",
   "execution_count": 15,
   "metadata": {},
   "outputs": [
    {
     "data": {
      "text/plain": [
       "('/home/ec2-user/SageMaker/efs/food101/food-101.tar.gz',\n",
       " <http.client.HTTPMessage at 0x7f5ad412d128>)"
      ]
     },
     "execution_count": 15,
     "metadata": {},
     "output_type": "execute_result"
    }
   ],
   "source": [
    "import os \n",
    "import sys\n",
    "\n",
    "'''\n",
    "Create directory of dataset:\n",
    "- efs_dir: mount point of efs\n",
    "- dataset_dir: name of a directory to store dataset\n",
    "'''\n",
    "efs_dir = \"/home/ec2-user/SageMaker/efs\"\n",
    "dataset_dir = \"food101\"\n",
    "if not os.path.exists(efs_dir):\n",
    "    print(\"Mount EFS on notebook instance. Food-101 dataset is very large.\")\n",
    "    sys.exit()\n",
    "elif not os.path.exists(os.path.join(efs_dir, dataset_dir)):\n",
    "    print(\"Creating dataset directory {}\".format(os.path.join(efs_dir, dataset_dir)))\n",
    "    os.mkdir(os.path.join(efs_dir, dataset_dir))\n",
    "    \n",
    "'''\n",
    "Download dataset (This takes 20-30 minutes.)\n",
    "'''\n",
    "import urllib.request\n",
    "url = 'http://data.vision.ee.ethz.ch/cvl/food-101.tar.gz'\n",
    "urllib.request.urlretrieve(url, os.path.join(efs_dir, dataset_dir, 'food-101.tar.gz'))"
   ]
  },
  {
   "cell_type": "code",
   "execution_count": null,
   "metadata": {},
   "outputs": [],
   "source": [
    "import tarfile\n",
    "file_name =  os.path.join(efs_dir, dataset_dir, 'food-101.tar.gz')\n",
    "tar = tarfile.open(file_name, \"r:gz\")\n",
    "tar.extractall(path=os.path.join(efs_dir, dataset_dir))\n",
    "tar.close()"
   ]
  },
  {
   "cell_type": "code",
   "execution_count": 25,
   "metadata": {},
   "outputs": [
    {
     "name": "stdout",
     "output_type": "stream",
     "text": [
      " extracting edge from images 1000/1000"
     ]
    }
   ],
   "source": [
    "food_name = 'ramen'\n",
    "edge_dir = 'ramen_edge'\n",
    "image_path = os.path.join(efs_dir, dataset_dir, 'food-101', 'images', food_name)\n",
    "edge_path = os.path.join(efs_dir, dataset_dir,'food-101', 'images', edge_dir)\n",
    "\n",
    "from PIL import Image, ImageFilter\n",
    "if not os.path.exists(edge_path):\n",
    "    print(\"Create directory to store edge-images\")\n",
    "    os.mkdir(edge_path)\n",
    "\n",
    "count = 0\n",
    "for f in os.listdir(image_path):\n",
    "    print('\\r extracting edge from images {}/{}'.format(str(count+1),len(os.listdir(image_path))), end=\"\")\n",
    "    image = Image.open(os.path.join(image_path, f))\n",
    "    image = image.filter(ImageFilter.FIND_EDGES)\n",
    "    image = image.filter(ImageFilter.CONTOUR)\n",
    "    image = image.convert(\"L\")           \n",
    "    image = image.point(lambda x: 0 if x < 100 else x)\n",
    "    image.save(os.path.join(edge_path, f)) \n",
    "    count+=1"
   ]
  },
  {
   "cell_type": "code",
   "execution_count": 26,
   "metadata": {},
   "outputs": [],
   "source": [
    "import sagemaker\n",
    "from sagemaker.mxnet import MXNet\n",
    "\n",
    "sagemaker_session = sagemaker.Session()\n",
    "role = sagemaker.get_execution_role()\n",
    "\n",
    "input_img = sagemaker_session.upload_data(path=edge_path, key_prefix='food101/edge_ramen')\n",
    "output_img  = sagemaker_session.upload_data(path=image_path, key_prefix='food101/image_ramen')"
   ]
  },
  {
   "cell_type": "code",
   "execution_count": 29,
   "metadata": {},
   "outputs": [
    {
     "name": "stdout",
     "output_type": "stream",
     "text": [
      "--2018-09-15 16:22:25--  https://raw.githubusercontent.com/awslabs/amazon-sagemaker-examples/master/sagemaker-python-sdk/mxnet_gluon_cifar10/setup.sh\n",
      "Resolving raw.githubusercontent.com (raw.githubusercontent.com)... 151.101.72.133\n",
      "Connecting to raw.githubusercontent.com (raw.githubusercontent.com)|151.101.72.133|:443... connected.\n",
      "HTTP request sent, awaiting response... 200 OK\n",
      "Length: 2445 (2.4K) [text/plain]\n",
      "Saving to: ‘setup.sh’\n",
      "\n",
      "setup.sh            100%[===================>]   2.39K  --.-KB/s    in 0s      \n",
      "\n",
      "2018-09-15 16:22:25 (50.3 MB/s) - ‘setup.sh’ saved [2445/2445]\n",
      "\n",
      "Collecting docker-compose\n",
      "\u001b[?25l  Downloading https://files.pythonhosted.org/packages/67/03/b833b571595e05c933d3af3685be3b27b1166c415d005b3eadaa5be80d25/docker_compose-1.22.0-py2.py3-none-any.whl (126kB)\n",
      "\u001b[K    100% |████████████████████████████████| 133kB 7.8MB/s ta 0:00:01\n",
      "\u001b[?25hRequirement already satisfied: PyYAML<4,>=3.10 in /home/ec2-user/anaconda3/envs/mxnet_p36/lib/python3.6/site-packages (from docker-compose) (3.12)\n",
      "Collecting docopt<0.7,>=0.6.1 (from docker-compose)\n",
      "  Downloading https://files.pythonhosted.org/packages/a2/55/8f8cab2afd404cf578136ef2cc5dfb50baa1761b68c9da1fb1e4eed343c9/docopt-0.6.2.tar.gz\n",
      "Requirement already satisfied: jsonschema<3,>=2.5.1 in /home/ec2-user/anaconda3/envs/mxnet_p36/lib/python3.6/site-packages (from docker-compose) (2.6.0)\n",
      "Requirement already satisfied: six<2,>=1.3.0 in /home/ec2-user/anaconda3/envs/mxnet_p36/lib/python3.6/site-packages (from docker-compose) (1.11.0)\n",
      "Collecting cached-property<2,>=1.2.0 (from docker-compose)\n",
      "  Downloading https://files.pythonhosted.org/packages/3b/86/85c1be2e8db9e13ef9a350aecd6dea292bd612fa288c2f40d035bb750ded/cached_property-1.5.1-py2.py3-none-any.whl\n",
      "Requirement already satisfied: requests!=2.11.0,!=2.12.2,!=2.18.0,<2.19,>=2.6.1 in /home/ec2-user/anaconda3/envs/mxnet_p36/lib/python3.6/site-packages (from docker-compose) (2.18.4)\n",
      "Collecting websocket-client<1.0,>=0.32.0 (from docker-compose)\n",
      "\u001b[?25l  Downloading https://files.pythonhosted.org/packages/14/d4/6a8cd4e7f67da465108c7cc0a307a1c5da7e2cdf497330b682069b1d4758/websocket_client-0.53.0-py2.py3-none-any.whl (198kB)\n",
      "\u001b[K    100% |████████████████████████████████| 204kB 10.8MB/s ta 0:00:01\n",
      "\u001b[?25hCollecting dockerpty<0.5,>=0.4.1 (from docker-compose)\n",
      "  Downloading https://files.pythonhosted.org/packages/8d/ee/e9ecce4c32204a6738e0a5d5883d3413794d7498fe8b06f44becc028d3ba/dockerpty-0.4.1.tar.gz\n",
      "Collecting texttable<0.10,>=0.9.0 (from docker-compose)\n",
      "  Downloading https://files.pythonhosted.org/packages/02/e1/2565e6b842de7945af0555167d33acfc8a615584ef7abd30d1eae00a4d80/texttable-0.9.1.tar.gz\n",
      "Collecting docker<4.0,>=3.4.1 (from docker-compose)\n",
      "\u001b[?25l  Downloading https://files.pythonhosted.org/packages/06/0b/ce97eb31058eddaef316973b8299b737ebab0bcb5798fd5a3225d53b4455/docker-3.5.0-py2.py3-none-any.whl (125kB)\n",
      "\u001b[K    100% |████████████████████████████████| 133kB 10.9MB/s ta 0:00:01\n",
      "\u001b[?25hRequirement already satisfied: chardet<3.1.0,>=3.0.2 in /home/ec2-user/anaconda3/envs/mxnet_p36/lib/python3.6/site-packages (from requests!=2.11.0,!=2.12.2,!=2.18.0,<2.19,>=2.6.1->docker-compose) (3.0.4)\n",
      "Requirement already satisfied: idna<2.7,>=2.5 in /home/ec2-user/anaconda3/envs/mxnet_p36/lib/python3.6/site-packages (from requests!=2.11.0,!=2.12.2,!=2.18.0,<2.19,>=2.6.1->docker-compose) (2.6)\n",
      "Requirement already satisfied: urllib3<1.23,>=1.21.1 in /home/ec2-user/anaconda3/envs/mxnet_p36/lib/python3.6/site-packages (from requests!=2.11.0,!=2.12.2,!=2.18.0,<2.19,>=2.6.1->docker-compose) (1.22)\n",
      "Requirement already satisfied: certifi>=2017.4.17 in /home/ec2-user/anaconda3/envs/mxnet_p36/lib/python3.6/site-packages (from requests!=2.11.0,!=2.12.2,!=2.18.0,<2.19,>=2.6.1->docker-compose) (2018.8.24)\n",
      "Collecting docker-pycreds>=0.3.0 (from docker<4.0,>=3.4.1->docker-compose)\n",
      "  Downloading https://files.pythonhosted.org/packages/ea/bf/7e70aeebc40407fbdb96fa9f79fc8e4722ea889a99378303e3bcc73f4ab5/docker_pycreds-0.3.0-py2.py3-none-any.whl\n",
      "Building wheels for collected packages: docopt, dockerpty, texttable\n",
      "  Running setup.py bdist_wheel for docopt ... \u001b[?25ldone\n",
      "\u001b[?25h  Stored in directory: /home/ec2-user/.cache/pip/wheels/9b/04/dd/7daf4150b6d9b12949298737de9431a324d4b797ffd63f526e\n",
      "  Running setup.py bdist_wheel for dockerpty ... \u001b[?25ldone\n",
      "\u001b[?25h  Stored in directory: /home/ec2-user/.cache/pip/wheels/e5/1e/86/bd0a97a0907c6c654af654d5875d1d4383dd1f575f77cee4aa\n",
      "  Running setup.py bdist_wheel for texttable ... \u001b[?25ldone\n",
      "\u001b[?25h  Stored in directory: /home/ec2-user/.cache/pip/wheels/99/1e/2b/8452d3a48dad98632787556a0f2f90d56703b39cdf7d142dd1\n",
      "Successfully built docopt dockerpty texttable\n",
      "\u001b[31mmxnet-model-server 0.3 requires fasteners, which is not installed.\u001b[0m\n",
      "\u001b[31mmxnet-model-server 0.3 requires importlib2, which is not installed.\u001b[0m\n",
      "\u001b[31mmxnet-model-server 0.3 requires mxnet>=1.1, which is not installed.\u001b[0m\n",
      "\u001b[31mmxnet-model-server 0.3 requires onnx-mxnet>=0.4.2, which is not installed.\u001b[0m\n",
      "\u001b[31mdistributed 1.21.8 requires msgpack, which is not installed.\u001b[0m\n",
      "Installing collected packages: docopt, cached-property, websocket-client, dockerpty, texttable, docker-pycreds, docker, docker-compose\n",
      "Successfully installed cached-property-1.5.1 docker-3.5.0 docker-compose-1.22.0 docker-pycreds-0.3.0 dockerpty-0.4.1 docopt-0.6.2 texttable-0.9.1 websocket-client-0.53.0\n",
      "\u001b[33mYou are using pip version 10.0.1, however version 18.0 is available.\n",
      "You should consider upgrading via the 'pip install --upgrade pip' command.\u001b[0m\n",
      "a4864dfa12942b15aca12ef876cde94648d8d798d863f78867a20b7d12f903c5\n",
      "iptables for Docker setup done\n"
     ]
    }
   ],
   "source": [
    "!wget https://raw.githubusercontent.com/awslabs/amazon-sagemaker-examples/master/sagemaker-python-sdk/mxnet_gluon_cifar10/setup.sh\n",
    "!sh ./setup.sh"
   ]
  },
  {
   "cell_type": "code",
   "execution_count": null,
   "metadata": {},
   "outputs": [],
   "source": [
    "m = MXNet('pix2pix.py',\n",
    "          role=role, \n",
    "          train_instance_count=1,\n",
    "          train_instance_type='local',\n",
    "          hyperparameters={'batch_size': 32,\n",
    "                           'epochs': 100,\n",
    "                           'learning_rate': 0.0002,\n",
    "                           'beta1': 0.5,\n",
    "                           'lambda1': 100})"
   ]
  }
 ],
 "metadata": {
  "kernelspec": {
   "display_name": "conda_mxnet_p36",
   "language": "python",
   "name": "conda_mxnet_p36"
  },
  "language_info": {
   "codemirror_mode": {
    "name": "ipython",
    "version": 3
   },
   "file_extension": ".py",
   "mimetype": "text/x-python",
   "name": "python",
   "nbconvert_exporter": "python",
   "pygments_lexer": "ipython3",
   "version": "3.6.5"
  }
 },
 "nbformat": 4,
 "nbformat_minor": 2
}
